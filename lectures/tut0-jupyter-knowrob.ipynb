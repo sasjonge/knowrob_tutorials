{
 "cells": [
  {
   "cell_type": "markdown",
   "id": "7f41441a-d859-4371-8bad-424ac7dec893",
   "metadata": {},
   "source": [
    "Tutorial: jupyter_knowrob\n",
    "===\n",
    "\n",
    "In this tutorial we describe how to use jupyter_knowrob. \n",
    "\n",
    "\n",
    "## Writing queries\n",
    "\n",
    "You can use the code cells here in jupyter to send queries to KnowRob:"
   ]
  },
  {
   "cell_type": "code",
   "execution_count": 1,
   "id": "4644b109-4035-434d-aa17-dd897f44c793",
   "metadata": {},
   "outputs": [
    {
     "name": "stdout",
     "output_type": "stream",
     "text": [
      "A: 8"
     ]
    }
   ],
   "source": [
    "A is 5 + 3."
   ]
  },
  {
   "cell_type": "markdown",
   "id": "aa6d9a69-b24c-4eb9-85fa-114163f07b0b",
   "metadata": {},
   "source": [
    "## Writing rules\n",
    "\n",
    "### Loading own modules\n",
    "\n",
    "You can write your own modules by adding Prolog modules to the prolog subdirectory that is loaded as a volume in docker. We recommend using the `cloud_consult/1` command to load the modules:"
   ]
  },
  {
   "cell_type": "code",
   "execution_count": 1,
   "id": "79e01d8f-e247-4895-a811-2f1e6301d74e",
   "metadata": {},
   "outputs": [
    {
     "name": "stdout",
     "output_type": "stream",
     "text": [
      "true"
     ]
    }
   ],
   "source": [
    "cloud_consult('/prolog/example.pl')"
   ]
  },
  {
   "cell_type": "markdown",
   "id": "0db39bc4-f0e2-4b74-9e7e-fdaaf110b7e8",
   "metadata": {},
   "source": [
    "We can test if the consult was successful by running this query:"
   ]
  },
  {
   "cell_type": "code",
   "execution_count": 1,
   "id": "cdee1646-c34f-4fff-9ce5-f1a6d0f5278d",
   "metadata": {},
   "outputs": [
    {
     "name": "stdout",
     "output_type": "stream",
     "text": [
      "A: Hello World!!!!"
     ]
    }
   ],
   "source": [
    "example_rule(A)."
   ]
  },
  {
   "cell_type": "markdown",
   "id": "d978a570-d55e-41db-b1b1-e22539680c89",
   "metadata": {},
   "source": [
    "### Adding single rules\n",
    "\n",
    "It is also possible to assert single rules instead of adding complete modules by writing the rule with the `:-` operator"
   ]
  },
  {
   "cell_type": "code",
   "execution_count": 1,
   "id": "fe7f25d4-4e16-4ae2-969d-2f18e6056871",
   "metadata": {},
   "outputs": [
    {
     "name": "stdout",
     "output_type": "stream",
     "text": [
      "true"
     ]
    }
   ],
   "source": [
    "own_rule(A) :-\n",
    "    A = 'Hello World3'."
   ]
  },
  {
   "cell_type": "markdown",
   "id": "61fd0c4f-5787-4b99-ad6e-54e4c6b7c03f",
   "metadata": {},
   "source": [
    "Now we can test the query:"
   ]
  },
  {
   "cell_type": "code",
   "execution_count": 1,
   "id": "f87f38c8-0032-4549-90e2-71a00bff8f50",
   "metadata": {},
   "outputs": [
    {
     "name": "stdout",
     "output_type": "stream",
     "text": [
      "A: Hello World;\n",
      "A: Hello World2;\n",
      "A: Hello World3"
     ]
    }
   ],
   "source": [
    "own_rule(A)."
   ]
  },
  {
   "cell_type": "code",
   "execution_count": null,
   "id": "ae4fc5d4-31f0-4f8a-bf79-9bcbd3690596",
   "metadata": {},
   "outputs": [],
   "source": []
  }
 ],
 "metadata": {
  "kernelspec": {
   "display_name": "KnowRob",
   "language": "",
   "name": "jknowrob"
  },
  "language_info": {
   "mimetype": "text/plain",
   "name": "swipl"
  }
 },
 "nbformat": 4,
 "nbformat_minor": 5
}
