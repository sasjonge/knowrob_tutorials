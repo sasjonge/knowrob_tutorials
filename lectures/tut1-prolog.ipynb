{
 "cells": [
  {
   "cell_type": "markdown",
   "id": "c85b5bc6-c40a-4eca-8f65-4c75bd98e232",
   "metadata": {},
   "source": [
    "Tutorial 1: Prolog\n",
    "===\n",
    "\n",
    "Syntax\n",
    "-----------------------------------------------------------------\n",
    "\n",
    "There are only three basic constructs in Prolog:  facts, rules, and queries.\n",
    "A collection of facts and rules is called a knowledge base (or a database) and\n",
    "Prolog programming is all about writing knowledge bases.\n",
    "That is, Prolog programs simply are knowledge bases, collections of\n",
    "facts and rules which describe some collection of relationships that we find interesting.\n",
    "\n",
    "So how do we use a Prolog program? By posing queries.\n",
    "That is, by asking questions about the information stored in the knowledge base.\n",
    "\n",
    "Now this probably sounds rather strange.\n",
    "It's certainly not obvious that it has much to do with programming at all.\n",
    "After all, isn't programming all about telling a computer what to do?\n",
    "But as we shall see, the Prolog way of programming makes a lot of sense,\n",
    "at least for certain tasks; for example, it is useful in computational linguistics\n",
    "and AI. But instead of saying more about Prolog in general terms,\n",
    "let's jump right in and start writing some simple knowledge bases;\n",
    "this is not just the best way of learning Prolog, it's the only way.\n",
    "\n",
    "Unification\n",
    "-----------------------------------------------------------------\n",
    "\n",
    "When working with the knowledge bases in the previous sections,\n",
    "we briefly mentioned the idea of unification.\n",
    "We said, for example, that Prolog unifies `robot(X)` with `robot(pr2)`,\n",
    "thereby instantiating the variable `X` to `pr2`.\n",
    "It's now time to take a closer look at unification,\n",
    "for it is one of the most fundamental ideas in Prolog.\n",
    "\n",
    "Recall that there are three types of term:\n",
    "\n",
    "  * *Constants*. These can either be atoms (such as pr2) or numbers (such as 42).\n",
    "  * *Variables*. (Such as X, and Z3)\n",
    "  * *Complex terms*. These have the form: functor(term_1,...,term_n).\n",
    "\n",
    "We are going to work with a basic intuition, which is a little light on detail:\n",
    "\n",
    "*Two terms unify if they are the same term or if they contain variables\n",
    "that can be uniformly instantiated with terms in such a way that\n",
    "the resulting terms are equal.*\n",
    "\n",
    "This means, for example,\n",
    "that the terms `pr2` and `pr2` unify, because they are the same atom.\n",
    "Similarly, the terms `42` and `42` unify, because they are the same number,\n",
    "the terms `X` and `X` unify, because they are the same variable,\n",
    "and the terms `robot(pr2)` and `robot(pr2)` unify, because they\n",
    "are the same complex term. The terms `robot(pr2)` and `robot(boxy)`,\n",
    "however, do not unify, as they are not the same (and neither of them contains\n",
    "a variable that could be instantiated to make them the same).\n",
    "\n",
    "Now, what about the terms `pr2` and `X`? They are not the same.\n",
    "However, the variable `X` can be instantiated to `pr2` which makes them equal.\n",
    "So, by the second part of our working definition, `pr2` and `X` unify.\n",
    "Similarly, the terms `robot(X)` and `robot(pr2)` unify,\n",
    "because they can be made equal by instantiating `X` to `pr2`.\n",
    "How about `before(ev3,X)` and `before(X,ev2)`? No.\n",
    "It is impossible to find an instantiation of `X` that makes the two terms equal.\n",
    "Do you see why? Instantiating `X` to `ev2` would give us the terms `before(ev3,ev2)`\n",
    "and `before(ev2,ev2)`, which are obviously not equal.\n",
    "\n",
    "Usually we are not only interested in the fact that two terms unify,\n",
    "we also want to know how the variables have to be instantiated to make them equal.\n",
    "And Prolog gives us this information.\n",
    "When Prolog unifies two terms it performs all the necessary instantiations,\n",
    "so that the terms really are equal afterwards. This functionality,\n",
    "together with the fact that we are allowed to build complex terms\n",
    "(that is, recursively structured terms) makes unification a powerful\n",
    "programming mechanism.\n",
    "\n",
    "The `=/2` predicate tests whether its two arguments unify.\n",
    "This is usually written in infix notation.\n",
    "For example, if we pose the query\n"
   ]
  },
  {
   "cell_type": "code",
   "execution_count": null,
   "id": "16a2a6da-8ff1-4d93-89f4-1b8dc7befd5f",
   "metadata": {},
   "outputs": [],
   "source": [
    "pr2 = pr2."
   ]
  },
  {
   "cell_type": "markdown",
   "id": "0a74297c-1705-48c7-a19b-7e9f56452e14",
   "metadata": {},
   "source": [
    "Prolog will respond *yes*. Note that `=(pr2,pr2)` equivalent to the infix notation.\n",
    "Now let's look at an example involving complex terms:"
   ]
  },
  {
   "cell_type": "code",
   "execution_count": null,
   "id": "b3e3fa07-6818-4ed5-a921-3965c46b233e",
   "metadata": {},
   "outputs": [],
   "source": [
    "k(s(g),Y)  =  k(X,t(k))."
   ]
  },
  {
   "cell_type": "markdown",
   "id": "b35c21f9-e44a-4a5f-929b-abbae4bfc3f8",
   "metadata": {},
   "source": [
    "Clearly the two complex terms unify if the stated variable instantiations\n",
    "are carried out. But how does this follow from the definition?\n",
    "The first thing we need to do is check that both complex terms have the\n",
    "same functor and arity. And they do.\n",
    "Then, we have to unify the corresponding arguments in each complex term.\n",
    "So do the first arguments, `s(g)` and `X`, unify?\n",
    "Yes, and we instantiate `X` to `s(g)`. So do the second arguments,\n",
    "`Y` and `t(k)`, unify? Again yes, and we instantiate `Y` to `t(k)`."
   ]
  }
 ],
 "metadata": {
  "kernelspec": {
   "display_name": "KnowRob",
   "language": "",
   "name": "jknowrob"
  },
  "language_info": {
   "mimetype": "text/plain",
   "name": "swipl"
  }
 },
 "nbformat": 4,
 "nbformat_minor": 5
}
