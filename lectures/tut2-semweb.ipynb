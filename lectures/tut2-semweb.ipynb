{
 "cells": [
  {
   "cell_type": "markdown",
   "id": "f61df979-e2e5-48f5-a45d-29ab0f26d4e2",
   "metadata": {},
   "source": [
    "Tutorial 2: Semantic Web\n",
    "===\n",
    "\n",
    "This course is concerned with symbolic knowledge representation\n",
    "using standardized languages of the semantic web.\n",
    "The semantic web has a layered architecture.\n",
    "\n",
    "Its basis is XML syntax for content structure within documents.\n",
    "The next layer is the Resource Description Framework (RDF),\n",
    "which is a simple language for expressing data models.\n",
    "\n",
    "<div align=\"center\">\n",
    "<img src=\"https://upload.wikimedia.org/wikipedia/commons/thumb/f/f7/Semantic_web_stack.svg/405px-Semantic_web_stack.svg.png\" alt=\"Smiley face\" width=\"320\">\n",
    "</div><br>\n",
    "\n",
    "RDF Schema extends RDF and is a vocabulary\n",
    "for describing properties and classes of RDF-based resources.\n",
    "The OWL layer adds more expressive elements to describe\n",
    "classes and their relationships, e.g.,\n",
    "existential (there must be some) and\n",
    "universal (there can only be)\n",
    "restrictions on class properties.\n",
    "We will have a closer look at the RDFS and OWL layer during this course.\n",
    "\n",
    "It may seem tedious to deal with these formal languages.\n",
    "And in fact, it is non trivial to master them.\n",
    "So what do we gain by employing semantic web technologies?\n",
    "\n",
    "One gain is being able to perform automated reasoning.\n",
    "This is possible because the languages are formally defined\n",
    "and computationally well understood.\n",
    "It is also useful to represent domain terminologies on which\n",
    "all involved parties agree upon.\n",
    "This is important to avoid confusion about what the\n",
    "specific meaning of a term is.\n",
    "Interdisciplinary projects, such as EASE, further need\n",
    "a foundational basis for combining\n",
    "data coming from different sub-projects.\n",
    "This is to clarify foundational questions such as:\n",
    "\n",
    "  * What is a `Situation`, `Event`, `Process`, `Motion`,`Action`?\n",
    "  * Is `Reaching` an `Action` or a `Motion`?\n",
    "\n",
    "\n",
    "Resource Description Framework (RDF)\n",
    "-----------------------------------------------------------------\n",
    "\n",
    "The RDF data model is similar to classical conceptual modeling approaches such as entity-relationship or class diagrams,\n",
    "as it is based upon the idea of making statements about resources (in particular web resources) in the form of subject-predicate-object expressions.\n",
    "These expressions are known as triples in RDF terminology.\n",
    "The subject denotes the resource we want to make a statement about,\n",
    "and the predicate denotes traits or aspects of the subject\n",
    "and expresses a relationship between the subject and the object. \n",
    "\n",
    "In RDF terminology, subjects, objects, and also predicates\n",
    "are resources.\n",
    "Each resource is identified by a unique name, the *IRI*\n",
    "(Internationalized Resource Identifier) which is\n",
    "a URI pointing to the definition of the resource.\n",
    "An example IRI is the following one:\n",
    "\n",
    "<pre>\n",
    "http://www.ease-crc.org/ont/SOMA.owl#Dishwasher\n",
    "</pre>\n",
    "\n",
    "In Prolog, IRIs are represented as atom, i.e. `'http://knowrob.org/kb/PR2.owl#PR2_0'`.\n",
    "To avoid writing the full IRI, namespace prefixes are used\n",
    "which can be dynamically registered in case some external ontology is used\n",
    "for which the prefix was not registered in advance.\n",
    "You can use `rdf_current_ns/2` to list existing namespaces:"
   ]
  },
  {
   "cell_type": "code",
   "execution_count": null,
   "id": "5834a007-6fee-42ec-98da-094c60d56aea",
   "metadata": {},
   "outputs": [],
   "source": [
    "rdf_current_ns(soma,_)."
   ]
  },
  {
   "cell_type": "markdown",
   "id": "b05ce658-fb8c-4343-a782-90be0a2747fc",
   "metadata": {},
   "source": [
    "i.e. we can also write `soma:'Placing'`. SOMA is an ontological model for defining \n",
    "everyday activities for robots to perform, inspired by DUL foundational ontology. \n",
    "More information about SOMA can be accessed at [SOMA](https://ease-crc.github.io/soma/)\n",
    "\n",
    "Unfortunately, the automated term expansion won't work for the rules\n",
    "you write during the TransAIR conference.\n",
    "The KB `RDF` declares a rule `expand/2` that needs to be used\n",
    "for arguments using the prefix notation,\n",
    "because rdf predicates expect IRI atoms, and not terms.\n",
    "\n",
    "The core of KnowRob is an extendable querying interface that\n",
    "provides basic operations *ask*, *tell*, *forget*, and *remember* implemented \n",
    "in SWI-Prolog. It provides a predicate `triple/3` to query the RDF triple store:"
   ]
  },
  {
   "cell_type": "code",
   "execution_count": null,
   "id": "6c8e0948-0808-4c50-8ef2-68240a9f2bf9",
   "metadata": {},
   "outputs": [],
   "source": [
    "triple(soma:'Arm',rdfs:subClassOf,soma:'PhysicalEffector')."
   ]
  },
  {
   "cell_type": "markdown",
   "id": "39d16ad7-4778-4d5e-9e8b-121eee928910",
   "metadata": {},
   "source": [
    "The \"object\" of triples may also be a data value instead of a resource.\n",
    "Depending on the Prolog version, these are repesented either\n",
    "as term `literal(type(Type,Value))` or, in a newer version,\n",
    "as `Value^^Type`.\n",
    "\n",
    "The semantic web supports distributed class definitions.\n",
    "Meaning that different aspects of some class can be defined\n",
    "in separate modules.\n",
    "\n",
    "Language interface of Knowrob offers some predicates to query the RDF triple store\n",
    "with RDFS semantics.\n",
    "These are `is_a/2`, `instance_of/2`, `subclass_of/2`,\n",
    "and `subproperty_of/2`."
   ]
  },
  {
   "cell_type": "code",
   "execution_count": null,
   "id": "43003817-5528-4812-baa9-35e96d2d9087",
   "metadata": {},
   "outputs": [],
   "source": [
    "is_a(soma:'Arm', soma:'Limb'),\n",
    "instance_of(soma:'Arm', owl:'Class')."
   ]
  },
  {
   "cell_type": "markdown",
   "id": "61c9e1e8-605b-477c-a04e-6655529b7fc1",
   "metadata": {},
   "source": [
    "Web Ontology Language (OWL)\t\n",
    "-----------------------------------------------------------------\n",
    "\n",
    "The OWL Web Ontology Language is designed for use\n",
    "by applications that need to process the content\n",
    "of information instead of just presenting information to humans.\n",
    "OWL facilitates greater machine interpretability of Web content\n",
    "than that supported by XML, RDF, and RDF Schema (RDFS)\n",
    "by providing additional vocabulary along with a formal semantics.\n",
    "\n",
    "The Semantic Web is a vision for the future of the Web\n",
    "in which information is given explicit meaning,\n",
    "making it easier for machines to automatically process and\n",
    "integrate information available on the Web.\n",
    "The Semantic Web will build on XML's ability to define\n",
    "customized tagging schemes and RDF's flexible approach to representing data.\n",
    "The first level above RDF required for the Semantic Web is\n",
    "an ontology language that can formally describe the\n",
    "meaning of terminology used in documents.\n",
    "If machines are expected to perform useful reasoning\n",
    "tasks on these documents, the language must\n",
    "go beyond the basic semantics of RDF Schema.\n",
    "\n",
    "Providing a thorough overview is beyond the scope of this course.\n",
    "The goal here is to gain an intuition of OWL as representation language.\n",
    "And to collect first experiences working with OWL ontologies.\n",
    "\n",
    "To get a better intuition, let's have a look at a class definition\n",
    "(written in Manchester notation):\n",
    "\n",
    "<div align=\"center\">\n",
    "<img src=\"https://ai2-s2-public.s3.amazonaws.com/figures/2017-08-08/2db3f919b6bd432a0380b47cca558be4e2624885/6-Figure5-1.png\" alt=\"Smiley face\" width=\"600\">\n",
    "</div><br>\n",
    "\n",
    "This defines that a vegetarian pizza is a type of pizza\n",
    "which has no toppings which are fish or meat.\n",
    "The keyword `some` is used for existential property restrictions,\n",
    "i.e. `hasTopping some FishTopping` means that there must be \n",
    "at least one topping which is a fish.\n",
    "In OWL terms, `hasTopping some FishTopping` is an anonymous class!\n",
    "Namely the class of all things in the world that have\n",
    "fish toppings.\n",
    "The keyword `not` is used to represent complement casses.\n",
    "This example should make clear that OWL has some relation\n",
    "to *set theory*, and that class definitions are\n",
    "essentially definitions of sets whose elements all fullfill\n",
    "some dedicated criterion (e.g., having a fish topping).\n",
    "This property makes OWL usefull for classification tasks.\n",
    "\n",
    "OWL ontologies can be stored in different formats,\n",
    "one of them is *RDF/XML*.\n",
    "Such files can be loaded by using the `tripledb_load/2` predicate. The first argument of the predicate is the path to the file.\n",
    "The `tripledb_load` predicate handles\n",
    "paths in the filesystem as well as URLs `http://...` and\n",
    "`package://...`.\n",
    "The latter are a special kind of URL used in the ROS\n",
    "ecosystem that refer to files by their local path\n",
    "w.r.t. a ROS package. The second argument of the predicate can be used to specifiy a namespace.\n",
    "\n",
    "In this course we are going to use an ontology in which\n",
    "one of our robots, the PR2, is described."
   ]
  },
  {
   "cell_type": "code",
   "execution_count": null,
   "id": "cfb7dcfd-2240-45d9-aeed-654fb43223a6",
   "metadata": {},
   "outputs": [],
   "source": [
    "load_owl('package://knowrob/owl/robots/PR2.owl', [namespace(pr2,'http://knowrob.org/kb/PR2.owl#')] )."
   ]
  },
  {
   "cell_type": "markdown",
   "id": "ac378611-d405-4c9a-991c-6730081dd160",
   "metadata": {},
   "source": [
    "The ontology defines the kinematic structure of the robot in terms of\n",
    "links and joints, and groups them into semantic components such\n",
    "as arms or legs.\n",
    "The semantic components of a robot are denoted by `dul:'hasComponent'`."
   ]
  },
  {
   "cell_type": "code",
   "execution_count": null,
   "id": "f853d310-3e5c-485d-b8ad-e2d365138b1e",
   "metadata": {},
   "outputs": [],
   "source": [
    "triple(pr2:'PR2_0',dul:'hasComponent',Component)."
   ]
  },
  {
   "cell_type": "markdown",
   "id": "8be2d4cd-8172-4b91-8b37-a9a8f8762cf9",
   "metadata": {},
   "source": [
    "The components are often further classified, e.g. as arm or hand."
   ]
  },
  {
   "cell_type": "code",
   "execution_count": null,
   "id": "5c7490b6-8626-4284-97e0-015ec3e0437d",
   "metadata": {},
   "outputs": [],
   "source": [
    "triple(pr2:'PR2_0',dul:'hasComponent', Component),\n",
    "instance_of(Component, PR2Arm),\n",
    "subclass_of(PR2Arm, soma:'Arm')."
   ]
  },
  {
   "cell_type": "markdown",
   "id": "1564a93f-001d-41cc-a17f-4f814560a11d",
   "metadata": {},
   "source": [
    "Each component has a `urdf:hasBaseLinkName` and a\n",
    "`urdf:hasEndLinkName` between which a path exists\n",
    "along the succeeding link and joints."
   ]
  },
  {
   "cell_type": "code",
   "execution_count": null,
   "id": "ae106962-87ae-4f84-990c-ca8ea8bfa448",
   "metadata": {},
   "outputs": [],
   "source": [
    "triple(pr2:'PR2Arm_0_L',urdf:'hasEndLinkName' , EndLink)."
   ]
  },
  {
   "cell_type": "markdown",
   "id": "8b6438c3-332c-4bbf-9dc8-7d01c50c9e6e",
   "metadata": {},
   "source": [
    "We can continue querying for the consecutive joints and links \n",
    "until the base link from the end link.\n",
    "\n",
    "All links are indiviudal of `urdf:'Link'`, and\n",
    "all joints are indiviudal `urdf:'Joint'`."
   ]
  }
 ],
 "metadata": {
  "kernelspec": {
   "display_name": "KnowRob",
   "language": "",
   "name": "jknowrob"
  },
  "language_info": {
   "mimetype": "text/plain",
   "name": "swipl"
  }
 },
 "nbformat": 4,
 "nbformat_minor": 5
}
